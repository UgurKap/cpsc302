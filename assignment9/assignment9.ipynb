{
 "cells": [
  {
   "cell_type": "markdown",
   "metadata": {},
   "source": [
    "# CPSC 302: Assignment 9\n",
    "## Nicholas Hu"
   ]
  },
  {
   "cell_type": "markdown",
   "metadata": {},
   "source": [
    "### Exercise 1"
   ]
  },
  {
   "cell_type": "markdown",
   "metadata": {},
   "source": [
    "#### (a)\n",
    "\n",
    "We wish to solve $\\vec{f}(\\vec{x}) = \\vec{0}$, where\n",
    "\n",
    "$$\n",
    "\\vec{f}(\\vec{x}) = \\begin{bmatrix}x_1^2 + x_1 x_2^3 - 9 \\\\ 3x_1^2 x_2 - x_2^3 - 4\\end{bmatrix}.\n",
    "$$\n",
    "\n",
    "The Jacobian of $\\vec{f}$ is\n",
    "\n",
    "$$\n",
    "J_{\\vec{f}} = \\begin{bmatrix}\\frac{\\partial f_1}{\\partial x_1} & \\frac{\\partial f_1}{\\partial x_2} \\\\ \\frac{\\partial f_2}{\\partial x_1} & \\frac{\\partial f_2}{\\partial x_2}\\end{bmatrix} = \\begin{bmatrix}2x_1 + x_2^3 & 3x_1 x_2^2 \\\\ 6x_1 x_2 & 3x_1^2 -3x_2^2\\end{bmatrix}\n",
    "$$\n",
    "\n",
    "and the Newton iteration is\n",
    "\n",
    "\\begin{align}\n",
    "\\vec{x}_{k+1} = \\vec{x}_k - J_{\\vec{f}}^{-1} (\\vec{x}_k) \\, \\vec{f}(\\vec{x}_k).\n",
    "\\end{align}"
   ]
  },
  {
   "cell_type": "markdown",
   "metadata": {},
   "source": [
    "#### (b)\n",
    "\n",
    "We wish to solve $\\vec{f}(\\vec{x}) = \\vec{0}$, where\n",
    "\n",
    "$$\n",
    "\\vec{f}(\\vec{x}) = \\begin{bmatrix}x_1 + x_2 - 2x_1 x_2 \\\\ x_1^2 + x_2^2 - 2x_1 + 2x_2 + 1\\end{bmatrix}.\n",
    "$$\n",
    "\n",
    "The Jacobian of $\\vec{f}$ is\n",
    "\n",
    "$$\n",
    "J_{\\vec{f}} = \\begin{bmatrix}\\frac{\\partial f_1}{\\partial x_1} & \\frac{\\partial f_1}{\\partial x_2} \\\\ \\frac{\\partial f_2}{\\partial x_1} & \\frac{\\partial f_2}{\\partial x_2}\\end{bmatrix} = \\begin{bmatrix}1 - 2x_2 & 1 - 2x_1 \\\\ 2x_1 - 2 & 2x_2 + 2\\end{bmatrix}\n",
    "$$\n",
    "\n",
    "and the Newton iteration is\n",
    "\n",
    "\\begin{align}\n",
    "\\vec{x}_{k+1} = \\vec{x}_k - J_{\\vec{f}}^{-1} (\\vec{x}_k) \\, \\vec{f}(\\vec{x}_k).\n",
    "\\end{align}"
   ]
  },
  {
   "cell_type": "markdown",
   "metadata": {},
   "source": [
    "#### (c)\n",
    "\n",
    "We wish to solve $\\vec{f}(\\vec{x}) = \\vec{0}$, where\n",
    "\n",
    "$$\n",
    "\\vec{f}(\\vec{x}) = \\begin{bmatrix}x_1^3 - x_2^2 \\\\ x_1 + x_1^2 x_2 - 2\\end{bmatrix}.\n",
    "$$\n",
    "\n",
    "The Jacobian of $\\vec{f}$ is\n",
    "\n",
    "$$\n",
    "J_{\\vec{f}} = \\begin{bmatrix}\\frac{\\partial f_1}{\\partial x_1} & \\frac{\\partial f_1}{\\partial x_2} \\\\ \\frac{\\partial f_2}{\\partial x_1} & \\frac{\\partial f_2}{\\partial x_2}\\end{bmatrix} = \\begin{bmatrix}3x_1^2 & -2x_2 \\\\ 1 + 2x_1 x_2 & x_1^2\\end{bmatrix}\n",
    "$$\n",
    "\n",
    "and the Newton iteration is\n",
    "\n",
    "\\begin{align}\n",
    "\\vec{x}_{k+1} = \\vec{x}_k - J_{\\vec{f}}^{-1} (\\vec{x}_k) \\, \\vec{f}(\\vec{x}_k).\n",
    "\\end{align}"
   ]
  },
  {
   "cell_type": "markdown",
   "metadata": {},
   "source": [
    "### Exercise 2"
   ]
  },
  {
   "cell_type": "markdown",
   "metadata": {},
   "source": [
    "We wish to solve $\\vec{f}(\\vec{x}) = \\vec{0}$, where\n",
    "\n",
    "$$\n",
    "\\vec{f}(\\vec{x}) = \\begin{bmatrix}x_1 - 1 \\\\ x_1 x_2 - 1\\end{bmatrix}.\n",
    "$$\n",
    "\n",
    "The Jacobian of $\\vec{f}$ is\n",
    "\n",
    "$$\n",
    "J_{\\vec{f}} = \\begin{bmatrix}\\frac{\\partial f_1}{\\partial x_1} & \\frac{\\partial f_1}{\\partial x_2} \\\\ \\frac{\\partial f_2}{\\partial x_1} & \\frac{\\partial f_2}{\\partial x_2}\\end{bmatrix} = \\begin{bmatrix}1 & 0 \\\\ x_2 & x_1\\end{bmatrix} ,\\,\n",
    "$$\n",
    "\n",
    "which is singular when $\\det(J_{\\vec{f}}) = x_1 = 0$. Hence initial guesses of the form $\\vec{x}_0 = \\begin{bmatrix}0 \\\\ t\\end{bmatrix},\\, t \\in \\mathbb{R}$ will fail."
   ]
  },
  {
   "cell_type": "markdown",
   "metadata": {},
   "source": [
    "### Exercise 3"
   ]
  },
  {
   "cell_type": "code",
   "execution_count": 1,
   "metadata": {
    "collapsed": false
   },
   "outputs": [],
   "source": [
    "#=\n",
    "CPSC 302 Assignment 9\n",
    "Nicholas Hu\n",
    "=#\n",
    "\n",
    "# Newton's method for nonlinear systems\n",
    "#\n",
    "# Parameters: a vector-valued vector function f,\n",
    "#             the Jacobian of f as a matrix-valued vector function J\n",
    "#             an initial solution guess x0\n",
    "#             a tolerance tol\n",
    "#             the maximum number of iterations to perform (default 100)\n",
    "\n",
    "function newton{T<:Number}(f::Function, J::Function, x0::Vector{T};\n",
    "                           tol::Float64=eps(), maxits::Int=100)\n",
    "    x::Vector{T} = x0\n",
    "    p = Vector{T}(length(x))\n",
    "    \n",
    "    for k = 1:maxits\n",
    "        p = J(x) \\ f(x)\n",
    "        x -= p\n",
    "        norm(p) < tol * (1 + norm(x)) && return x\n",
    "    end\n",
    "end;"
   ]
  },
  {
   "cell_type": "code",
   "execution_count": 2,
   "metadata": {
    "collapsed": false
   },
   "outputs": [],
   "source": [
    "function func(x::Vector{Float64})::Vector{Float64}\n",
    "    return [2x[1] - x[2] - exp(-x[1]);\n",
    "            -x[1] + 2x[2] - exp(-x[2])]\n",
    "end\n",
    "    \n",
    "function jac(x::Vector{Float64})::Matrix{Float64}\n",
    "    return [2 + exp(-x[1]) -1;\n",
    "            -1 2 + exp(-x[2])]\n",
    "end;"
   ]
  },
  {
   "cell_type": "code",
   "execution_count": 3,
   "metadata": {
    "collapsed": false,
    "scrolled": true
   },
   "outputs": [
    {
     "name": "stdout",
     "output_type": "stream",
     "text": [
      "x = [0.5671432904097838, 0.5671432904097838]\n",
      "||f(x)|| = 0.000000e+00\n"
     ]
    }
   ],
   "source": [
    "x = newton(func, jac, [-5., -5.])\n",
    "@printf(\"x = [%.16f, %.16f]\\n\", x[1], x[2])\n",
    "@printf(\"||f(x)|| = %e\\n\", norm(func(x)))"
   ]
  },
  {
   "cell_type": "markdown",
   "metadata": {},
   "source": [
    "***Remark.*** *The solution to the nonlinear system is $x_1 = x_2 = \\Omega$; the value of $\\Omega \\text{ (= $W(1)$)}$ can alternatively be computed using the fixed-point iteration below.*"
   ]
  },
  {
   "cell_type": "code",
   "execution_count": 4,
   "metadata": {
    "collapsed": false
   },
   "outputs": [
    {
     "name": "stdout",
     "output_type": "stream",
     "text": [
      "y = 0.5671432904097838\n"
     ]
    }
   ],
   "source": [
    "y = -5\n",
    "for i = 1:10\n",
    "    y = (1 + y) / (1 + exp(y))\n",
    "end\n",
    "\n",
    "println(\"y = $y\")"
   ]
  }
 ],
 "metadata": {
  "kernelspec": {
   "display_name": "Julia 0.5.0",
   "language": "julia",
   "name": "julia-0.5"
  },
  "language_info": {
   "file_extension": ".jl",
   "mimetype": "application/julia",
   "name": "julia",
   "version": "0.5.0"
  }
 },
 "nbformat": 4,
 "nbformat_minor": 0
}
